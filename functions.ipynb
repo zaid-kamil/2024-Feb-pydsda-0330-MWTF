{
 "cells": [
  {
   "cell_type": "code",
   "execution_count": 7,
   "metadata": {},
   "outputs": [],
   "source": [
    "def greetings():\n",
    "    print('🎉'*6)\n",
    "    print('Congratulations')\n",
    "    print('🎉'*6)"
   ]
  },
  {
   "cell_type": "code",
   "execution_count": 5,
   "metadata": {},
   "outputs": [
    {
     "data": {
      "text/plain": [
       "<function __main__.greetings()>"
      ]
     },
     "execution_count": 5,
     "metadata": {},
     "output_type": "execute_result"
    }
   ],
   "source": [
    "greetings"
   ]
  },
  {
   "cell_type": "code",
   "execution_count": 8,
   "metadata": {},
   "outputs": [
    {
     "name": "stdout",
     "output_type": "stream",
     "text": [
      "🎉🎉🎉🎉🎉🎉\n",
      "Congratulations\n",
      "🎉🎉🎉🎉🎉🎉\n"
     ]
    }
   ],
   "source": [
    "greetings()"
   ]
  },
  {
   "cell_type": "code",
   "execution_count": 9,
   "metadata": {},
   "outputs": [],
   "source": [
    "def hyp(p,b):\n",
    "    c = (p**2 + b**2)**0.5\n",
    "    print(c)"
   ]
  },
  {
   "cell_type": "code",
   "execution_count": 13,
   "metadata": {},
   "outputs": [
    {
     "name": "stdout",
     "output_type": "stream",
     "text": [
      "5.0\n",
      "13.601470508735444\n",
      "11.180339887498949\n"
     ]
    }
   ],
   "source": [
    "hyp(3, 4)\n",
    "hyp(13, 4)\n",
    "hyp(10, 5)"
   ]
  },
  {
   "cell_type": "code",
   "execution_count": 14,
   "metadata": {},
   "outputs": [],
   "source": [
    "def rect_area(length, breadth):\n",
    "    area = length * breadth\n",
    "    return area"
   ]
  },
  {
   "cell_type": "code",
   "execution_count": 18,
   "metadata": {},
   "outputs": [
    {
     "name": "stdout",
     "output_type": "stream",
     "text": [
      "200\n",
      "1200\n",
      "1400\n"
     ]
    }
   ],
   "source": [
    "a = rect_area(10, 20)\n",
    "b = rect_area(30, 40)\n",
    "print(a)\n",
    "print(b)\n",
    "print(a + b)"
   ]
  },
  {
   "cell_type": "code",
   "execution_count": 19,
   "metadata": {},
   "outputs": [],
   "source": [
    "from random import choice\n",
    "def roll_dice():\n",
    "    faces = ['1️⃣', '2️⃣', '3️⃣', '4️⃣', '5️⃣', '6️⃣']\n",
    "    chosen = choice(faces)\n",
    "    return chosen"
   ]
  },
  {
   "cell_type": "code",
   "execution_count": 31,
   "metadata": {},
   "outputs": [
    {
     "name": "stdout",
     "output_type": "stream",
     "text": [
      "1️⃣ 3️⃣\n",
      "1️⃣ 5️⃣\n",
      "2️⃣ 2️⃣\n"
     ]
    }
   ],
   "source": [
    "print(roll_dice(), roll_dice())\n",
    "print(roll_dice(), roll_dice())\n",
    "print(roll_dice(), roll_dice())"
   ]
  },
  {
   "cell_type": "code",
   "execution_count": 36,
   "metadata": {},
   "outputs": [],
   "source": [
    "def get_total(price, bank_card):\n",
    "    if bank_card == 'axis':\n",
    "        discount = price * 0.10 # 10% discount\n",
    "        return price - discount\n",
    "    elif bank_card == 'icici':\n",
    "        discount = price * 0.15\n",
    "        return price - discount\n",
    "    elif bank_card == 'sbi':\n",
    "        discount = price * 0.02\n",
    "        cashback = 2000\n",
    "        return price - discount - cashback\n",
    "    else:\n",
    "        return price"
   ]
  },
  {
   "cell_type": "code",
   "execution_count": 40,
   "metadata": {},
   "outputs": [
    {
     "name": "stdout",
     "output_type": "stream",
     "text": [
      "39160.0 37800.0 35700.0 42000\n"
     ]
    }
   ],
   "source": [
    "a = get_total(42000, 'sbi')\n",
    "b = get_total(42000, 'axis')\n",
    "c = get_total(42000, 'icici')\n",
    "d = get_total(42000, 'bio')\n",
    "print(a, b, c, d)"
   ]
  },
  {
   "cell_type": "code",
   "execution_count": null,
   "metadata": {},
   "outputs": [],
   "source": []
  }
 ],
 "metadata": {
  "kernelspec": {
   "display_name": "base",
   "language": "python",
   "name": "python3"
  },
  "language_info": {
   "codemirror_mode": {
    "name": "ipython",
    "version": 3
   },
   "file_extension": ".py",
   "mimetype": "text/x-python",
   "name": "python",
   "nbconvert_exporter": "python",
   "pygments_lexer": "ipython3",
   "version": "3.11.7"
  }
 },
 "nbformat": 4,
 "nbformat_minor": 2
}
