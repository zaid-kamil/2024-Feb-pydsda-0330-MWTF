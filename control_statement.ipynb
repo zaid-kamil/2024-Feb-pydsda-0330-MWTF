{
 "cells": [
  {
   "cell_type": "markdown",
   "metadata": {},
   "source": [
    "conditions"
   ]
  },
  {
   "cell_type": "code",
   "execution_count": null,
   "metadata": {},
   "outputs": [],
   "source": [
    "a = int(input(\"Enter number\"))\n",
    "if a % 7 == 0:\n",
    "    print('Divisible by 7')\n",
    "    print('Hurray🎉🎉')\n",
    "print('the end')"
   ]
  },
  {
   "cell_type": "code",
   "execution_count": null,
   "metadata": {},
   "outputs": [],
   "source": [
    "pwd = input(\"Enter password\")\n",
    "if len(pwd) >= 8:\n",
    "    print('Password is OK')\n",
    "else:\n",
    "    print('Password is too short')"
   ]
  },
  {
   "cell_type": "code",
   "execution_count": null,
   "metadata": {},
   "outputs": [],
   "source": [
    "marks = int(input('Enter marks'))\n",
    "total = 600\n",
    "pct = marks / total * 100\n",
    "if pct >= 90:\n",
    "    grade = 'A'\n",
    "elif pct >= 75:\n",
    "    grade = 'B'\n",
    "elif pct >= 60:\n",
    "    grade = 'C'\n",
    "elif pct >= 40:\n",
    "    grade = 'D'\n",
    "else:\n",
    "    grade = 'F'\n",
    "print(f'Your report')\n",
    "print(f'Percentage: {pct:.2f}%')\n",
    "print(f'Grade: {grade}')\n"
   ]
  },
  {
   "cell_type": "markdown",
   "metadata": {},
   "source": [
    "`match case does not allow comparison, only pattern or value matching`"
   ]
  },
  {
   "cell_type": "code",
   "execution_count": null,
   "metadata": {},
   "outputs": [],
   "source": [
    "print(\"What is the square root of 16?\")\n",
    "ans = int(input(\"Answer\"))\n",
    "match ans:\n",
    "    case 2: print('Incorrect')\n",
    "    case 4: print('Correct')\n",
    "    case _: print('This is absurd')"
   ]
  },
  {
   "cell_type": "markdown",
   "metadata": {},
   "source": [
    "loops\n",
    "- `for` loop - iteration based\n",
    "- `while` loop - condition based\n",
    "\n",
    "```\n",
    "for item in iterable:\n",
    "    statement 1\n",
    "    ...\n",
    "    statement n\n",
    "```"
   ]
  },
  {
   "cell_type": "code",
   "execution_count": null,
   "metadata": {},
   "outputs": [],
   "source": [
    "movies = ['The Godfather', 'The Shawshank Redemption', \n",
    "          'Pulp Fiction', 'The Dark Knight']\n",
    "for movie in movies:\n",
    "    print(movie)"
   ]
  },
  {
   "cell_type": "code",
   "execution_count": null,
   "metadata": {},
   "outputs": [],
   "source": [
    "for i in range(100, 110, 2):\n",
    "    print(i)"
   ]
  },
  {
   "cell_type": "code",
   "execution_count": null,
   "metadata": {},
   "outputs": [],
   "source": [
    "for a in range(10, 0, -1):\n",
    "    print(a)"
   ]
  },
  {
   "cell_type": "code",
   "execution_count": null,
   "metadata": {},
   "outputs": [],
   "source": [
    "# sum of all even numbers from 0 to 100\n",
    "total = 0\n",
    "for i in range(0,100, 2):\n",
    "    total += i\n",
    "print(total)"
   ]
  },
  {
   "cell_type": "code",
   "execution_count": null,
   "metadata": {},
   "outputs": [],
   "source": [
    "sum(range(0, 100, 2)) # same but pythonic"
   ]
  },
  {
   "cell_type": "code",
   "execution_count": null,
   "metadata": {},
   "outputs": [],
   "source": [
    "# wap to display a factorial of a number (chatgpt)"
   ]
  },
  {
   "cell_type": "markdown",
   "metadata": {},
   "source": [
    "```\n",
    "while condition:\n",
    "    statement 1\n",
    "    ...\n",
    "    statement n\n",
    "```"
   ]
  },
  {
   "cell_type": "code",
   "execution_count": null,
   "metadata": {},
   "outputs": [],
   "source": [
    "i = 1\n",
    "while i < 10:\n",
    "    print(i)\n",
    "    i+=1"
   ]
  },
  {
   "cell_type": "code",
   "execution_count": null,
   "metadata": {},
   "outputs": [],
   "source": [
    "while True:\n",
    "    iq = int(input('Enter IQ'))\n",
    "    if iq > 120:\n",
    "        print('You are not eligible')\n",
    "        break\n",
    "    print('You need to learn more and increase your IQ')"
   ]
  }
 ],
 "metadata": {
  "kernelspec": {
   "display_name": "base",
   "language": "python",
   "name": "python3"
  },
  "language_info": {
   "codemirror_mode": {
    "name": "ipython",
    "version": 3
   },
   "file_extension": ".py",
   "mimetype": "text/x-python",
   "name": "python",
   "nbconvert_exporter": "python",
   "pygments_lexer": "ipython3",
   "version": "3.11.7"
  }
 },
 "nbformat": 4,
 "nbformat_minor": 2
}
