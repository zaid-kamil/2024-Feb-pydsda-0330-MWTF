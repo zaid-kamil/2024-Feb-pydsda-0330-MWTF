{
 "cells": [
  {
   "cell_type": "code",
   "execution_count": null,
   "metadata": {},
   "outputs": [],
   "source": [
    "name = 'Vijay Deenanath Chauhan'\n"
   ]
  },
  {
   "cell_type": "code",
   "execution_count": null,
   "metadata": {},
   "outputs": [],
   "source": [
    "name[6:15]"
   ]
  },
  {
   "cell_type": "code",
   "execution_count": null,
   "metadata": {},
   "outputs": [],
   "source": [
    "fname = name[:5]\n",
    "print(fname)"
   ]
  },
  {
   "cell_type": "code",
   "execution_count": null,
   "metadata": {},
   "outputs": [],
   "source": [
    "lname = name[-7:] # last 7 characters\n",
    "print(lname)"
   ]
  },
  {
   "cell_type": "code",
   "execution_count": null,
   "metadata": {},
   "outputs": [],
   "source": [
    "username = \"@edward elric😖😭⭐\"\n",
    "print(username[1:7]) # select from 1st to 7th character\n",
    "print(username[1:-3]) # leave the 1st and last 3 characters"
   ]
  },
  {
   "cell_type": "code",
   "execution_count": null,
   "metadata": {},
   "outputs": [],
   "source": [
    "english = 'abcdefghijklmnopqrstuvwxyz'\n",
    "print(english[:6]) # select from 1st to 13th character\n",
    "print(english[::2]) # select every 2nd character\n",
    "print(english[1::2]) # select every 2nd character\n",
    "print(english[::-1]) # reverse the string"
   ]
  },
  {
   "cell_type": "code",
   "execution_count": null,
   "metadata": {},
   "outputs": [],
   "source": [
    "msg = 'the quick brown fox jumps over the lazy dog'\n",
    "print(msg[:10]) # first ten characters\n",
    "print(msg[-10:]) # last ten characters"
   ]
  },
  {
   "cell_type": "markdown",
   "metadata": {},
   "source": [
    "### string methods\n",
    "\n",
    "searching and replacing\n",
    "1. find\n",
    "2. replace"
   ]
  },
  {
   "cell_type": "code",
   "execution_count": null,
   "metadata": {},
   "outputs": [],
   "source": [
    "msg = 'the quick brown fox jumps over the lazy dog'\n",
    "print(msg.find('fox'))\n",
    "print(msg.find('o'))\n",
    "print(msg.find('bear')) # -1 means not found"
   ]
  },
  {
   "cell_type": "code",
   "execution_count": null,
   "metadata": {},
   "outputs": [],
   "source": [
    "msg = 'the quick brown fox jumps over the lazy dog'\n",
    "print(msg.replace('fox','elephant'))\n",
    "print(msg.replace('o','i'))\n",
    "print(msg.replace('fox','unicorn').replace('dog','rabbit').replace('jumps over','kicks'))"
   ]
  },
  {
   "cell_type": "markdown",
   "metadata": {},
   "source": [
    "Manipulation of string into list and vice versa\n",
    "1. split\n",
    "2. join\n",
    "3. strip"
   ]
  },
  {
   "cell_type": "code",
   "execution_count": null,
   "metadata": {},
   "outputs": [],
   "source": [
    "print(msg.split()) # list of words\n",
    "msg2 = \"life before death, strength before weakness, journey before destination\"\n",
    "print(msg2.split(',')) # list of phrases\n",
    "poem = '''Johny Johny yes papa\n",
    "eating sugar no papa\n",
    "telling lies no papa\n",
    "open your mouth hahaha\n",
    "'''\n",
    "print(poem.splitlines())\n"
   ]
  },
  {
   "cell_type": "code",
   "execution_count": null,
   "metadata": {},
   "outputs": [],
   "source": [
    "x = ['a', 'b', 'c', 'd', 'e']\n",
    "print(\" \".join(x))\n",
    "print(\"+\".join(x))\n",
    "print(\", \".join(x))\n",
    "print(\"🤔\".join(x))"
   ]
  },
  {
   "cell_type": "code",
   "execution_count": null,
   "metadata": {},
   "outputs": [],
   "source": [
    "a = \"apples \"\n",
    "b = '  rainbows'\n",
    "c = ' unicorns  '\n",
    "d = '''\n",
    "\n",
    "ola\n",
    "\n",
    "'''\n",
    "print(a.strip())\n",
    "print(b.strip())\n",
    "print(c.strip())\n",
    "print(d.strip())\n"
   ]
  },
  {
   "cell_type": "markdown",
   "metadata": {},
   "source": [
    "counting\n",
    "1. count"
   ]
  },
  {
   "cell_type": "code",
   "execution_count": null,
   "metadata": {},
   "outputs": [],
   "source": [
    "sentence = '''Once upon a time, \n",
    "in a land far far away, \n",
    "there lived a princess,\n",
    "with her pet unicorn'''\n",
    "\n",
    "print(sentence.count('a'))\n",
    "print(sentence.count('far'))\n",
    "print(sentence.count('in'))\n",
    "print(sentence.count('unicorn'))"
   ]
  },
  {
   "cell_type": "markdown",
   "metadata": {},
   "source": [
    "formatting \n",
    "1. upper\n",
    "2. lower\n",
    "3. capitalize\n",
    "4. title"
   ]
  },
  {
   "cell_type": "code",
   "execution_count": 32,
   "metadata": {},
   "outputs": [
    {
     "name": "stdout",
     "output_type": "stream",
     "text": [
      "THE QUICK BROWN FOX JUMPS OVER THE LAZY DOG\n",
      "the quick brown fox jumps over the lazy dog\n",
      "The quick brown fox jumps over the lazy dog\n",
      "The Quick Brown Fox Jumps Over The Lazy Dog\n"
     ]
    }
   ],
   "source": [
    "print(msg.upper())\n",
    "print(msg.lower())\n",
    "print(msg.capitalize())\n",
    "print(msg.title())"
   ]
  },
  {
   "cell_type": "code",
   "execution_count": null,
   "metadata": {},
   "outputs": [],
   "source": []
  }
 ],
 "metadata": {
  "kernelspec": {
   "display_name": "base",
   "language": "python",
   "name": "python3"
  },
  "language_info": {
   "codemirror_mode": {
    "name": "ipython",
    "version": 3
   },
   "file_extension": ".py",
   "mimetype": "text/x-python",
   "name": "python",
   "nbconvert_exporter": "python",
   "pygments_lexer": "ipython3",
   "version": "3.11.7"
  }
 },
 "nbformat": 4,
 "nbformat_minor": 2
}
