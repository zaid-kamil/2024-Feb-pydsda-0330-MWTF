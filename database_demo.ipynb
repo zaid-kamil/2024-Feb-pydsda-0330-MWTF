{
 "cells": [
  {
   "cell_type": "code",
   "execution_count": 1,
   "metadata": {},
   "outputs": [],
   "source": [
    "from database import User, Message\n",
    "from database import get_db, add_to_db"
   ]
  },
  {
   "cell_type": "code",
   "execution_count": 2,
   "metadata": {},
   "outputs": [
    {
     "name": "stdout",
     "output_type": "stream",
     "text": [
      "Data added to the database\n"
     ]
    }
   ],
   "source": [
    "# directly adding data to the database\n",
    "u1 = User(name=\"Ramesh\", email=\"ramesh007@gmail.com\", password='1234')\n",
    "u2 = User(name=\"Suresh\", email=\"Suresh007@gmail.com\", password='12345')\n",
    "u3 = User(name=\"Rajesh\", email=\"rajesh007@gmail.com\", password='12435')\n",
    "add_to_db(u1)\n",
    "add_to_db(u2)\n",
    "add_to_db(u3)\n",
    "print(\"Data added to the database\")"
   ]
  },
  {
   "cell_type": "code",
   "execution_count": null,
   "metadata": {},
   "outputs": [],
   "source": []
  }
 ],
 "metadata": {
  "kernelspec": {
   "display_name": "base",
   "language": "python",
   "name": "python3"
  },
  "language_info": {
   "codemirror_mode": {
    "name": "ipython",
    "version": 3
   },
   "file_extension": ".py",
   "mimetype": "text/x-python",
   "name": "python",
   "nbconvert_exporter": "python",
   "pygments_lexer": "ipython3",
   "version": "3.11.7"
  }
 },
 "nbformat": 4,
 "nbformat_minor": 2
}
