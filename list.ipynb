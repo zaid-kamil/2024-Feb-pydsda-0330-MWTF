{
 "cells": [
  {
   "cell_type": "markdown",
   "metadata": {},
   "source": [
    "# collection\n",
    "- list ⭐\n",
    "    - indexed\n",
    "    - ordered\n",
    "    - heterogenous\n",
    "    - duplicate items exists\n",
    "    - nesting\n",
    "    - representation `[ ]`\n",
    "    - constructoro method `list( )`\n",
    "- tuple\n",
    "- set\n",
    "- dict ⭐"
   ]
  },
  {
   "cell_type": "code",
   "execution_count": null,
   "metadata": {},
   "outputs": [],
   "source": []
  }
 ],
 "metadata": {
  "kernelspec": {
   "display_name": "base",
   "language": "python",
   "name": "python3"
  },
  "language_info": {
   "name": "python",
   "version": "3.11.7"
  }
 },
 "nbformat": 4,
 "nbformat_minor": 2
}
