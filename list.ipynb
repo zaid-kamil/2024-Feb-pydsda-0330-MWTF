{
 "cells": [
  {
   "cell_type": "markdown",
   "metadata": {},
   "source": [
    "# collection\n",
    "- list ⭐\n",
    "    - indexed\n",
    "    - ordered\n",
    "    - heterogenous\n",
    "    - duplicate items exists\n",
    "    - nesting\n",
    "    - representation `[ ]`\n",
    "    - constructoro method `list( )`\n",
    "- tuple\n",
    "- set\n",
    "- dict ⭐"
   ]
  },
  {
   "cell_type": "code",
   "execution_count": 2,
   "metadata": {},
   "outputs": [
    {
     "name": "stdout",
     "output_type": "stream",
     "text": [
      "(12, 45, 56)\n",
      "(1, 6, 7, 7, 2)\n"
     ]
    }
   ],
   "source": [
    "x = (12,45,56)\n",
    "print(x)\n",
    "y = 1,6,7,7,2\n",
    "print(y)"
   ]
  },
  {
   "cell_type": "code",
   "execution_count": null,
   "metadata": {},
   "outputs": [],
   "source": []
  }
 ],
 "metadata": {
  "kernelspec": {
   "display_name": "base",
   "language": "python",
   "name": "python3"
  },
  "language_info": {
   "codemirror_mode": {
    "name": "ipython",
    "version": 3
   },
   "file_extension": ".py",
   "mimetype": "text/x-python",
   "name": "python",
   "nbconvert_exporter": "python",
   "pygments_lexer": "ipython3",
   "version": "3.11.7"
  }
 },
 "nbformat": 4,
 "nbformat_minor": 2
}
