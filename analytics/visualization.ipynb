{
 "cells": [
  {
   "cell_type": "markdown",
   "metadata": {},
   "source": [
    "# Visualization\n",
    "- Graph and its uses and datatype\n",
    "    - Line Graph -> Trend analysis, Time series data, Comparing two or more data\n",
    "    - Bar Graph -> Comparing two or more data directly with its values\n",
    "    - Pie Chart -> Comparing the parts of a whole, percentage\n",
    "    - Histogram -> Frequency distribution of continuous data\n",
    "    - Scatter Plot -> Relationship between two variables\n",
    "    - Box Plot -> Distribution of data, Outliers\n",
    "    - Heat Map -> Correlation between two variables\n",
    "    - Bubble Chart -> Relationship between three variables\n",
    "    - Area Chart -> Trend analysis, Time series data, Comparing two or more data\n",
    "    - Donut Chart -> Comparing the parts of a whole, percentage\n",
    "    - Candlestick Chart -> Stock market data"
   ]
  },
  {
   "cell_type": "code",
   "execution_count": null,
   "metadata": {},
   "outputs": [],
   "source": []
  }
 ],
 "metadata": {
  "language_info": {
   "name": "python"
  }
 },
 "nbformat": 4,
 "nbformat_minor": 2
}
